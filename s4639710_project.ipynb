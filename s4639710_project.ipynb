{
 "cells": [
  {
   "cell_type": "code",
   "execution_count": 1,
   "metadata": {},
   "outputs": [
    {
     "name": "stdout",
     "output_type": "stream",
     "text": [
      "root\n",
      " |-- _c0: integer (nullable = true)\n",
      " |-- matchId: double (nullable = true)\n",
      " |-- blue_win: integer (nullable = true)\n",
      " |-- blueGold: double (nullable = true)\n",
      " |-- blueMinionsKilled: double (nullable = true)\n",
      " |-- blueJungleMinionsKilled: double (nullable = true)\n",
      " |-- blueAvgLevel: double (nullable = true)\n",
      " |-- redGold: double (nullable = true)\n",
      " |-- redMinionsKilled: double (nullable = true)\n",
      " |-- redJungleMinionsKilled: double (nullable = true)\n",
      " |-- redAvgLevel: double (nullable = true)\n",
      " |-- blueChampKills: double (nullable = true)\n",
      " |-- blueHeraldKills: double (nullable = true)\n",
      " |-- blueDragonKills: double (nullable = true)\n",
      " |-- blueTowersDestroyed: double (nullable = true)\n",
      " |-- redChampKills: double (nullable = true)\n",
      " |-- redHeraldKills: double (nullable = true)\n",
      " |-- redDragonKills: double (nullable = true)\n",
      " |-- redTowersDestroyed: double (nullable = true)\n",
      "\n"
     ]
    }
   ],
   "source": [
    "from pyspark.sql import SparkSession\n",
    "spark = SparkSession.builder.appName('ml-league').getOrCreate()\n",
    "df = spark.read.csv('hdfs://namenode/game.csv', header = True, inferSchema = True)\n",
    "df.printSchema()"
   ]
  },
  {
   "cell_type": "code",
   "execution_count": 2,
   "metadata": {},
   "outputs": [
    {
     "data": {
      "text/html": [
       "<div>\n",
       "<style scoped>\n",
       "    .dataframe tbody tr th:only-of-type {\n",
       "        vertical-align: middle;\n",
       "    }\n",
       "\n",
       "    .dataframe tbody tr th {\n",
       "        vertical-align: top;\n",
       "    }\n",
       "\n",
       "    .dataframe thead th {\n",
       "        text-align: right;\n",
       "    }\n",
       "</style>\n",
       "<table border=\"1\" class=\"dataframe\">\n",
       "  <thead>\n",
       "    <tr style=\"text-align: right;\">\n",
       "      <th></th>\n",
       "      <th>_c0</th>\n",
       "      <th>matchId</th>\n",
       "      <th>blue_win</th>\n",
       "      <th>blueGold</th>\n",
       "      <th>blueMinionsKilled</th>\n",
       "      <th>blueJungleMinionsKilled</th>\n",
       "      <th>blueAvgLevel</th>\n",
       "      <th>redGold</th>\n",
       "      <th>redMinionsKilled</th>\n",
       "      <th>redJungleMinionsKilled</th>\n",
       "      <th>redAvgLevel</th>\n",
       "      <th>blueChampKills</th>\n",
       "      <th>blueHeraldKills</th>\n",
       "      <th>blueDragonKills</th>\n",
       "      <th>blueTowersDestroyed</th>\n",
       "      <th>redChampKills</th>\n",
       "      <th>redHeraldKills</th>\n",
       "      <th>redDragonKills</th>\n",
       "      <th>redTowersDestroyed</th>\n",
       "    </tr>\n",
       "  </thead>\n",
       "  <tbody>\n",
       "    <tr>\n",
       "      <th>0</th>\n",
       "      <td>0</td>\n",
       "      <td>3.493251e+09</td>\n",
       "      <td>0</td>\n",
       "      <td>24575.0</td>\n",
       "      <td>349.0</td>\n",
       "      <td>89.0</td>\n",
       "      <td>8.6</td>\n",
       "      <td>25856.0</td>\n",
       "      <td>346.0</td>\n",
       "      <td>80.0</td>\n",
       "      <td>9.2</td>\n",
       "      <td>6.0</td>\n",
       "      <td>1.0</td>\n",
       "      <td>0.0</td>\n",
       "      <td>1.0</td>\n",
       "      <td>12.0</td>\n",
       "      <td>2.0</td>\n",
       "      <td>0.0</td>\n",
       "      <td>1.0</td>\n",
       "    </tr>\n",
       "    <tr>\n",
       "      <th>1</th>\n",
       "      <td>1</td>\n",
       "      <td>3.464936e+09</td>\n",
       "      <td>0</td>\n",
       "      <td>27210.0</td>\n",
       "      <td>290.0</td>\n",
       "      <td>36.0</td>\n",
       "      <td>9.0</td>\n",
       "      <td>28765.0</td>\n",
       "      <td>294.0</td>\n",
       "      <td>92.0</td>\n",
       "      <td>9.4</td>\n",
       "      <td>20.0</td>\n",
       "      <td>0.0</td>\n",
       "      <td>0.0</td>\n",
       "      <td>0.0</td>\n",
       "      <td>19.0</td>\n",
       "      <td>2.0</td>\n",
       "      <td>0.0</td>\n",
       "      <td>0.0</td>\n",
       "    </tr>\n",
       "    <tr>\n",
       "      <th>2</th>\n",
       "      <td>2</td>\n",
       "      <td>3.428426e+09</td>\n",
       "      <td>1</td>\n",
       "      <td>32048.0</td>\n",
       "      <td>346.0</td>\n",
       "      <td>92.0</td>\n",
       "      <td>9.4</td>\n",
       "      <td>25305.0</td>\n",
       "      <td>293.0</td>\n",
       "      <td>84.0</td>\n",
       "      <td>9.4</td>\n",
       "      <td>17.0</td>\n",
       "      <td>3.0</td>\n",
       "      <td>0.0</td>\n",
       "      <td>0.0</td>\n",
       "      <td>11.0</td>\n",
       "      <td>0.0</td>\n",
       "      <td>0.0</td>\n",
       "      <td>4.0</td>\n",
       "    </tr>\n",
       "    <tr>\n",
       "      <th>3</th>\n",
       "      <td>3</td>\n",
       "      <td>3.428347e+09</td>\n",
       "      <td>0</td>\n",
       "      <td>20261.0</td>\n",
       "      <td>223.0</td>\n",
       "      <td>60.0</td>\n",
       "      <td>8.2</td>\n",
       "      <td>30429.0</td>\n",
       "      <td>356.0</td>\n",
       "      <td>107.0</td>\n",
       "      <td>9.4</td>\n",
       "      <td>7.0</td>\n",
       "      <td>0.0</td>\n",
       "      <td>0.0</td>\n",
       "      <td>3.0</td>\n",
       "      <td>16.0</td>\n",
       "      <td>3.0</td>\n",
       "      <td>0.0</td>\n",
       "      <td>0.0</td>\n",
       "    </tr>\n",
       "    <tr>\n",
       "      <th>4</th>\n",
       "      <td>4</td>\n",
       "      <td>3.428351e+09</td>\n",
       "      <td>1</td>\n",
       "      <td>30217.0</td>\n",
       "      <td>376.0</td>\n",
       "      <td>110.0</td>\n",
       "      <td>9.8</td>\n",
       "      <td>23889.0</td>\n",
       "      <td>334.0</td>\n",
       "      <td>60.0</td>\n",
       "      <td>8.8</td>\n",
       "      <td>16.0</td>\n",
       "      <td>3.0</td>\n",
       "      <td>0.0</td>\n",
       "      <td>0.0</td>\n",
       "      <td>8.0</td>\n",
       "      <td>0.0</td>\n",
       "      <td>0.0</td>\n",
       "      <td>2.0</td>\n",
       "    </tr>\n",
       "  </tbody>\n",
       "</table>\n",
       "</div>"
      ],
      "text/plain": [
       "   _c0       matchId  blue_win  blueGold  blueMinionsKilled  \\\n",
       "0    0  3.493251e+09         0   24575.0              349.0   \n",
       "1    1  3.464936e+09         0   27210.0              290.0   \n",
       "2    2  3.428426e+09         1   32048.0              346.0   \n",
       "3    3  3.428347e+09         0   20261.0              223.0   \n",
       "4    4  3.428351e+09         1   30217.0              376.0   \n",
       "\n",
       "   blueJungleMinionsKilled  blueAvgLevel  redGold  redMinionsKilled  \\\n",
       "0                     89.0           8.6  25856.0             346.0   \n",
       "1                     36.0           9.0  28765.0             294.0   \n",
       "2                     92.0           9.4  25305.0             293.0   \n",
       "3                     60.0           8.2  30429.0             356.0   \n",
       "4                    110.0           9.8  23889.0             334.0   \n",
       "\n",
       "   redJungleMinionsKilled  redAvgLevel  blueChampKills  blueHeraldKills  \\\n",
       "0                    80.0          9.2             6.0              1.0   \n",
       "1                    92.0          9.4            20.0              0.0   \n",
       "2                    84.0          9.4            17.0              3.0   \n",
       "3                   107.0          9.4             7.0              0.0   \n",
       "4                    60.0          8.8            16.0              3.0   \n",
       "\n",
       "   blueDragonKills  blueTowersDestroyed  redChampKills  redHeraldKills  \\\n",
       "0              0.0                  1.0           12.0             2.0   \n",
       "1              0.0                  0.0           19.0             2.0   \n",
       "2              0.0                  0.0           11.0             0.0   \n",
       "3              0.0                  3.0           16.0             3.0   \n",
       "4              0.0                  0.0            8.0             0.0   \n",
       "\n",
       "   redDragonKills  redTowersDestroyed  \n",
       "0             0.0                 1.0  \n",
       "1             0.0                 0.0  \n",
       "2             0.0                 4.0  \n",
       "3             0.0                 0.0  \n",
       "4             0.0                 2.0  "
      ]
     },
     "execution_count": 2,
     "metadata": {},
     "output_type": "execute_result"
    }
   ],
   "source": [
    "import pandas as pd\n",
    "pd.DataFrame(df.take(5), columns=df.columns)"
   ]
  },
  {
   "cell_type": "code",
   "execution_count": 3,
   "metadata": {},
   "outputs": [
    {
     "name": "stdout",
     "output_type": "stream",
     "text": [
      "Removed 0 duplicated rows \n",
      "Removed 0 null rows \n"
     ]
    }
   ],
   "source": [
    "dup = df.dropDuplicates()\n",
    "print(f\"Removed {df.count()-dup.count()} duplicated rows \")\n",
    "\n",
    "null = dup.na.drop()\n",
    "print(f\"Removed {dup.count()-null.count()} null rows \")"
   ]
  },
  {
   "cell_type": "code",
   "execution_count": 4,
   "metadata": {},
   "outputs": [
    {
     "data": {
      "text/html": [
       "<div>\n",
       "<style scoped>\n",
       "    .dataframe tbody tr th:only-of-type {\n",
       "        vertical-align: middle;\n",
       "    }\n",
       "\n",
       "    .dataframe tbody tr th {\n",
       "        vertical-align: top;\n",
       "    }\n",
       "\n",
       "    .dataframe thead th {\n",
       "        text-align: right;\n",
       "    }\n",
       "</style>\n",
       "<table border=\"1\" class=\"dataframe\">\n",
       "  <thead>\n",
       "    <tr style=\"text-align: right;\">\n",
       "      <th></th>\n",
       "      <th>blue_win</th>\n",
       "      <th>count</th>\n",
       "    </tr>\n",
       "  </thead>\n",
       "  <tbody>\n",
       "    <tr>\n",
       "      <th>0</th>\n",
       "      <td>1</td>\n",
       "      <td>24589</td>\n",
       "    </tr>\n",
       "    <tr>\n",
       "      <th>1</th>\n",
       "      <td>0</td>\n",
       "      <td>24062</td>\n",
       "    </tr>\n",
       "  </tbody>\n",
       "</table>\n",
       "</div>"
      ],
      "text/plain": [
       "   blue_win  count\n",
       "0         1  24589\n",
       "1         0  24062"
      ]
     },
     "execution_count": 4,
     "metadata": {},
     "output_type": "execute_result"
    }
   ],
   "source": [
    "df.groupby('blue_win').count().toPandas()"
   ]
  },
  {
   "cell_type": "markdown",
   "metadata": {},
   "source": [
    "The data is found well balanced"
   ]
  },
  {
   "cell_type": "code",
   "execution_count": 5,
   "metadata": {},
   "outputs": [
    {
     "name": "stdout",
     "output_type": "stream",
     "text": [
      "root\n",
      " |-- blue_win: integer (nullable = true)\n",
      " |-- blueGold: double (nullable = true)\n",
      " |-- blueMinionsKilled: double (nullable = true)\n",
      " |-- blueJungleMinionsKilled: double (nullable = true)\n",
      " |-- blueAvgLevel: double (nullable = true)\n",
      " |-- redGold: double (nullable = true)\n",
      " |-- redMinionsKilled: double (nullable = true)\n",
      " |-- redJungleMinionsKilled: double (nullable = true)\n",
      " |-- redAvgLevel: double (nullable = true)\n",
      " |-- blueChampKills: double (nullable = true)\n",
      " |-- blueHeraldKills: double (nullable = true)\n",
      " |-- blueDragonKills: double (nullable = true)\n",
      " |-- blueTowersDestroyed: double (nullable = true)\n",
      " |-- redChampKills: double (nullable = true)\n",
      " |-- redHeraldKills: double (nullable = true)\n",
      " |-- redDragonKills: double (nullable = true)\n",
      " |-- redTowersDestroyed: double (nullable = true)\n",
      "\n"
     ]
    }
   ],
   "source": [
    "df = df.select('blue_win', 'blueGold', 'blueMinionsKilled', 'blueJungleMinionsKilled', 'blueAvgLevel', 'redGold', 'redMinionsKilled', 'redJungleMinionsKilled', 'redAvgLevel', 'blueChampKills', 'blueHeraldKills', 'blueDragonKills', 'blueTowersDestroyed', 'redChampKills', 'redHeraldKills', 'redDragonKills', 'redTowersDestroyed')\n",
    "cols = df.columns\n",
    "df.printSchema()"
   ]
  },
  {
   "cell_type": "code",
   "execution_count": 6,
   "metadata": {},
   "outputs": [
    {
     "data": {
      "text/html": [
       "<div>\n",
       "<style scoped>\n",
       "    .dataframe tbody tr th:only-of-type {\n",
       "        vertical-align: middle;\n",
       "    }\n",
       "\n",
       "    .dataframe tbody tr th {\n",
       "        vertical-align: top;\n",
       "    }\n",
       "\n",
       "    .dataframe thead th {\n",
       "        text-align: right;\n",
       "    }\n",
       "</style>\n",
       "<table border=\"1\" class=\"dataframe\">\n",
       "  <thead>\n",
       "    <tr style=\"text-align: right;\">\n",
       "      <th></th>\n",
       "      <th>0</th>\n",
       "      <th>1</th>\n",
       "      <th>2</th>\n",
       "      <th>3</th>\n",
       "      <th>4</th>\n",
       "    </tr>\n",
       "  </thead>\n",
       "  <tbody>\n",
       "    <tr>\n",
       "      <th>summary</th>\n",
       "      <td>count</td>\n",
       "      <td>mean</td>\n",
       "      <td>stddev</td>\n",
       "      <td>min</td>\n",
       "      <td>max</td>\n",
       "    </tr>\n",
       "    <tr>\n",
       "      <th>blueGold</th>\n",
       "      <td>48651</td>\n",
       "      <td>26349.16057223901</td>\n",
       "      <td>2777.2998677544165</td>\n",
       "      <td>15930.0</td>\n",
       "      <td>39769.0</td>\n",
       "    </tr>\n",
       "    <tr>\n",
       "      <th>blueMinionsKilled</th>\n",
       "      <td>48651</td>\n",
       "      <td>335.8591395860311</td>\n",
       "      <td>32.67309558960828</td>\n",
       "      <td>120.0</td>\n",
       "      <td>455.0</td>\n",
       "    </tr>\n",
       "    <tr>\n",
       "      <th>blueJungleMinionsKilled</th>\n",
       "      <td>48651</td>\n",
       "      <td>83.13658506505519</td>\n",
       "      <td>14.794947466946063</td>\n",
       "      <td>0.0</td>\n",
       "      <td>164.0</td>\n",
       "    </tr>\n",
       "    <tr>\n",
       "      <th>blueAvgLevel</th>\n",
       "      <td>48651</td>\n",
       "      <td>9.17225134118565</td>\n",
       "      <td>0.41373488268088915</td>\n",
       "      <td>5.4</td>\n",
       "      <td>10.8</td>\n",
       "    </tr>\n",
       "    <tr>\n",
       "      <th>redGold</th>\n",
       "      <td>48651</td>\n",
       "      <td>26203.02859139586</td>\n",
       "      <td>2754.7094253129667</td>\n",
       "      <td>11133.0</td>\n",
       "      <td>39999.0</td>\n",
       "    </tr>\n",
       "    <tr>\n",
       "      <th>redMinionsKilled</th>\n",
       "      <td>48651</td>\n",
       "      <td>336.69398367967773</td>\n",
       "      <td>33.2789623119406</td>\n",
       "      <td>14.0</td>\n",
       "      <td>457.0</td>\n",
       "    </tr>\n",
       "    <tr>\n",
       "      <th>redJungleMinionsKilled</th>\n",
       "      <td>48651</td>\n",
       "      <td>84.69299706069762</td>\n",
       "      <td>14.902325776460577</td>\n",
       "      <td>1.0</td>\n",
       "      <td>160.0</td>\n",
       "    </tr>\n",
       "    <tr>\n",
       "      <th>redAvgLevel</th>\n",
       "      <td>48651</td>\n",
       "      <td>9.174758997760078</td>\n",
       "      <td>0.4213960073984547</td>\n",
       "      <td>2.4</td>\n",
       "      <td>10.6</td>\n",
       "    </tr>\n",
       "    <tr>\n",
       "      <th>blueChampKills</th>\n",
       "      <td>48651</td>\n",
       "      <td>11.013154919734435</td>\n",
       "      <td>4.53289808776087</td>\n",
       "      <td>0.0</td>\n",
       "      <td>50.0</td>\n",
       "    </tr>\n",
       "    <tr>\n",
       "      <th>blueHeraldKills</th>\n",
       "      <td>48651</td>\n",
       "      <td>1.3163552650510781</td>\n",
       "      <td>0.9567843552645059</td>\n",
       "      <td>0.0</td>\n",
       "      <td>4.0</td>\n",
       "    </tr>\n",
       "    <tr>\n",
       "      <th>blueDragonKills</th>\n",
       "      <td>48651</td>\n",
       "      <td>0.0</td>\n",
       "      <td>0.0</td>\n",
       "      <td>0.0</td>\n",
       "      <td>0.0</td>\n",
       "    </tr>\n",
       "    <tr>\n",
       "      <th>blueTowersDestroyed</th>\n",
       "      <td>48651</td>\n",
       "      <td>0.7940843970319212</td>\n",
       "      <td>1.0545563792557995</td>\n",
       "      <td>0.0</td>\n",
       "      <td>11.0</td>\n",
       "    </tr>\n",
       "    <tr>\n",
       "      <th>redChampKills</th>\n",
       "      <td>48651</td>\n",
       "      <td>10.747692750405953</td>\n",
       "      <td>4.453357518351022</td>\n",
       "      <td>0.0</td>\n",
       "      <td>43.0</td>\n",
       "    </tr>\n",
       "    <tr>\n",
       "      <th>redHeraldKills</th>\n",
       "      <td>48651</td>\n",
       "      <td>1.2871883414523853</td>\n",
       "      <td>0.9524502343887524</td>\n",
       "      <td>0.0</td>\n",
       "      <td>4.0</td>\n",
       "    </tr>\n",
       "    <tr>\n",
       "      <th>redDragonKills</th>\n",
       "      <td>48651</td>\n",
       "      <td>0.0</td>\n",
       "      <td>0.0</td>\n",
       "      <td>0.0</td>\n",
       "      <td>0.0</td>\n",
       "    </tr>\n",
       "    <tr>\n",
       "      <th>redTowersDestroyed</th>\n",
       "      <td>48651</td>\n",
       "      <td>0.8916569032496763</td>\n",
       "      <td>1.1112054095533077</td>\n",
       "      <td>0.0</td>\n",
       "      <td>10.0</td>\n",
       "    </tr>\n",
       "  </tbody>\n",
       "</table>\n",
       "</div>"
      ],
      "text/plain": [
       "                             0                   1                    2  \\\n",
       "summary                  count                mean               stddev   \n",
       "blueGold                 48651   26349.16057223901   2777.2998677544165   \n",
       "blueMinionsKilled        48651   335.8591395860311    32.67309558960828   \n",
       "blueJungleMinionsKilled  48651   83.13658506505519   14.794947466946063   \n",
       "blueAvgLevel             48651    9.17225134118565  0.41373488268088915   \n",
       "redGold                  48651   26203.02859139586   2754.7094253129667   \n",
       "redMinionsKilled         48651  336.69398367967773     33.2789623119406   \n",
       "redJungleMinionsKilled   48651   84.69299706069762   14.902325776460577   \n",
       "redAvgLevel              48651   9.174758997760078   0.4213960073984547   \n",
       "blueChampKills           48651  11.013154919734435     4.53289808776087   \n",
       "blueHeraldKills          48651  1.3163552650510781   0.9567843552645059   \n",
       "blueDragonKills          48651                 0.0                  0.0   \n",
       "blueTowersDestroyed      48651  0.7940843970319212   1.0545563792557995   \n",
       "redChampKills            48651  10.747692750405953    4.453357518351022   \n",
       "redHeraldKills           48651  1.2871883414523853   0.9524502343887524   \n",
       "redDragonKills           48651                 0.0                  0.0   \n",
       "redTowersDestroyed       48651  0.8916569032496763   1.1112054095533077   \n",
       "\n",
       "                               3        4  \n",
       "summary                      min      max  \n",
       "blueGold                 15930.0  39769.0  \n",
       "blueMinionsKilled          120.0    455.0  \n",
       "blueJungleMinionsKilled      0.0    164.0  \n",
       "blueAvgLevel                 5.4     10.8  \n",
       "redGold                  11133.0  39999.0  \n",
       "redMinionsKilled            14.0    457.0  \n",
       "redJungleMinionsKilled       1.0    160.0  \n",
       "redAvgLevel                  2.4     10.6  \n",
       "blueChampKills               0.0     50.0  \n",
       "blueHeraldKills              0.0      4.0  \n",
       "blueDragonKills              0.0      0.0  \n",
       "blueTowersDestroyed          0.0     11.0  \n",
       "redChampKills                0.0     43.0  \n",
       "redHeraldKills               0.0      4.0  \n",
       "redDragonKills               0.0      0.0  \n",
       "redTowersDestroyed           0.0     10.0  "
      ]
     },
     "execution_count": 6,
     "metadata": {},
     "output_type": "execute_result"
    }
   ],
   "source": [
    "numeric_features = [t[0] for t in df.dtypes if t[1] == 'double']\n",
    "df.select(numeric_features).describe().toPandas().transpose()"
   ]
  },
  {
   "cell_type": "markdown",
   "metadata": {},
   "source": [
    "Select data columns in double type and check their relevance."
   ]
  },
  {
   "cell_type": "code",
   "execution_count": 7,
   "metadata": {},
   "outputs": [
    {
     "name": "stderr",
     "output_type": "stream",
     "text": [
      "/opt/conda/lib/python3.8/site-packages/pandas/plotting/_matplotlib/misc.py:80: UserWarning: Attempting to set identical left == right == 0.0 results in singular transformations; automatically expanding.\n",
      "  ax.set_xlim(boundaries_list[j])\n",
      "/opt/conda/lib/python3.8/site-packages/pandas/plotting/_matplotlib/misc.py:81: UserWarning: Attempting to set identical bottom == top == 0.0 results in singular transformations; automatically expanding.\n",
      "  ax.set_ylim(boundaries_list[i])\n",
      "/opt/conda/lib/python3.8/site-packages/pandas/plotting/_matplotlib/misc.py:71: UserWarning: Attempting to set identical left == right == 0.0 results in singular transformations; automatically expanding.\n",
      "  ax.set_xlim(boundaries_list[i])\n"
     ]
    },
    {
     "data": {
      "image/png": "[encoded data removed]",
      "text/plain": [
       "<Figure size 576x576 with 256 Axes>"
      ]
     },
     "metadata": {
      "needs_background": "light"
     },
     "output_type": "display_data"
    }
   ],
   "source": [
    "numeric_data = df.select(numeric_features).toPandas()\n",
    "axs = pd.plotting.scatter_matrix(numeric_data, figsize=(8, 8));\n",
    "\n",
    "# Rotate axis labels and remove axis ticks\n",
    "n = len(numeric_data.columns)\n",
    "for i in range(n):\n",
    "    v = axs[i, 0]\n",
    "    v.yaxis.label.set_rotation(0)\n",
    "    v.yaxis.label.set_ha('right')\n",
    "    v.set_yticks(())\n",
    "    h = axs[n-1, i]\n",
    "    h.xaxis.label.set_rotation(90)\n",
    "    h.set_xticks(())"
   ]
  },
  {
   "cell_type": "markdown",
   "metadata": {},
   "source": [
    "Based on the plots shown above, we remove the column of DragonKills and HeraldKills for both teams."
   ]
  },
  {
   "cell_type": "code",
   "execution_count": 8,
   "metadata": {},
   "outputs": [
    {
     "name": "stdout",
     "output_type": "stream",
     "text": [
      "root\n",
      " |-- blue_win: integer (nullable = true)\n",
      " |-- blueGold: double (nullable = true)\n",
      " |-- blueMinionsKilled: double (nullable = true)\n",
      " |-- blueJungleMinionsKilled: double (nullable = true)\n",
      " |-- blueAvgLevel: double (nullable = true)\n",
      " |-- redGold: double (nullable = true)\n",
      " |-- redMinionsKilled: double (nullable = true)\n",
      " |-- redJungleMinionsKilled: double (nullable = true)\n",
      " |-- redAvgLevel: double (nullable = true)\n",
      " |-- blueChampKills: double (nullable = true)\n",
      " |-- blueTowersDestroyed: double (nullable = true)\n",
      " |-- redChampKills: double (nullable = true)\n",
      " |-- redTowersDestroyed: double (nullable = true)\n",
      "\n"
     ]
    }
   ],
   "source": [
    "# remove dragons kills & herald kills\n",
    "df = df.select('blue_win', 'blueGold', 'blueMinionsKilled', 'blueJungleMinionsKilled', 'blueAvgLevel', 'redGold', 'redMinionsKilled', 'redJungleMinionsKilled', 'redAvgLevel', 'blueChampKills', 'blueTowersDestroyed', 'redChampKills', 'redTowersDestroyed')\n",
    "cols = df.columns\n",
    "df.printSchema()"
   ]
  },
  {
   "cell_type": "code",
   "execution_count": 9,
   "metadata": {},
   "outputs": [
    {
     "data": {
      "text/html": [
       "<div>\n",
       "<style scoped>\n",
       "    .dataframe tbody tr th:only-of-type {\n",
       "        vertical-align: middle;\n",
       "    }\n",
       "\n",
       "    .dataframe tbody tr th {\n",
       "        vertical-align: top;\n",
       "    }\n",
       "\n",
       "    .dataframe thead th {\n",
       "        text-align: right;\n",
       "    }\n",
       "</style>\n",
       "<table border=\"1\" class=\"dataframe\">\n",
       "  <thead>\n",
       "    <tr style=\"text-align: right;\">\n",
       "      <th></th>\n",
       "      <th>0</th>\n",
       "      <th>1</th>\n",
       "      <th>2</th>\n",
       "      <th>3</th>\n",
       "      <th>4</th>\n",
       "    </tr>\n",
       "  </thead>\n",
       "  <tbody>\n",
       "    <tr>\n",
       "      <th>summary</th>\n",
       "      <td>count</td>\n",
       "      <td>mean</td>\n",
       "      <td>stddev</td>\n",
       "      <td>min</td>\n",
       "      <td>max</td>\n",
       "    </tr>\n",
       "    <tr>\n",
       "      <th>blueGold</th>\n",
       "      <td>48651</td>\n",
       "      <td>26349.16057223901</td>\n",
       "      <td>2777.2998677544165</td>\n",
       "      <td>15930.0</td>\n",
       "      <td>39769.0</td>\n",
       "    </tr>\n",
       "    <tr>\n",
       "      <th>blueMinionsKilled</th>\n",
       "      <td>48651</td>\n",
       "      <td>335.8591395860311</td>\n",
       "      <td>32.67309558960828</td>\n",
       "      <td>120.0</td>\n",
       "      <td>455.0</td>\n",
       "    </tr>\n",
       "    <tr>\n",
       "      <th>blueJungleMinionsKilled</th>\n",
       "      <td>48651</td>\n",
       "      <td>83.13658506505519</td>\n",
       "      <td>14.794947466946063</td>\n",
       "      <td>0.0</td>\n",
       "      <td>164.0</td>\n",
       "    </tr>\n",
       "    <tr>\n",
       "      <th>blueAvgLevel</th>\n",
       "      <td>48651</td>\n",
       "      <td>9.17225134118565</td>\n",
       "      <td>0.41373488268088915</td>\n",
       "      <td>5.4</td>\n",
       "      <td>10.8</td>\n",
       "    </tr>\n",
       "    <tr>\n",
       "      <th>redGold</th>\n",
       "      <td>48651</td>\n",
       "      <td>26203.02859139586</td>\n",
       "      <td>2754.7094253129667</td>\n",
       "      <td>11133.0</td>\n",
       "      <td>39999.0</td>\n",
       "    </tr>\n",
       "    <tr>\n",
       "      <th>redMinionsKilled</th>\n",
       "      <td>48651</td>\n",
       "      <td>336.69398367967773</td>\n",
       "      <td>33.2789623119406</td>\n",
       "      <td>14.0</td>\n",
       "      <td>457.0</td>\n",
       "    </tr>\n",
       "    <tr>\n",
       "      <th>redJungleMinionsKilled</th>\n",
       "      <td>48651</td>\n",
       "      <td>84.69299706069762</td>\n",
       "      <td>14.902325776460577</td>\n",
       "      <td>1.0</td>\n",
       "      <td>160.0</td>\n",
       "    </tr>\n",
       "    <tr>\n",
       "      <th>redAvgLevel</th>\n",
       "      <td>48651</td>\n",
       "      <td>9.174758997760078</td>\n",
       "      <td>0.4213960073984547</td>\n",
       "      <td>2.4</td>\n",
       "      <td>10.6</td>\n",
       "    </tr>\n",
       "    <tr>\n",
       "      <th>blueChampKills</th>\n",
       "      <td>48651</td>\n",
       "      <td>11.013154919734435</td>\n",
       "      <td>4.53289808776087</td>\n",
       "      <td>0.0</td>\n",
       "      <td>50.0</td>\n",
       "    </tr>\n",
       "    <tr>\n",
       "      <th>blueTowersDestroyed</th>\n",
       "      <td>48651</td>\n",
       "      <td>0.7940843970319212</td>\n",
       "      <td>1.0545563792557995</td>\n",
       "      <td>0.0</td>\n",
       "      <td>11.0</td>\n",
       "    </tr>\n",
       "    <tr>\n",
       "      <th>redChampKills</th>\n",
       "      <td>48651</td>\n",
       "      <td>10.747692750405953</td>\n",
       "      <td>4.453357518351022</td>\n",
       "      <td>0.0</td>\n",
       "      <td>43.0</td>\n",
       "    </tr>\n",
       "    <tr>\n",
       "      <th>redTowersDestroyed</th>\n",
       "      <td>48651</td>\n",
       "      <td>0.8916569032496763</td>\n",
       "      <td>1.1112054095533077</td>\n",
       "      <td>0.0</td>\n",
       "      <td>10.0</td>\n",
       "    </tr>\n",
       "  </tbody>\n",
       "</table>\n",
       "</div>"
      ],
      "text/plain": [
       "                             0                   1                    2  \\\n",
       "summary                  count                mean               stddev   \n",
       "blueGold                 48651   26349.16057223901   2777.2998677544165   \n",
       "blueMinionsKilled        48651   335.8591395860311    32.67309558960828   \n",
       "blueJungleMinionsKilled  48651   83.13658506505519   14.794947466946063   \n",
       "blueAvgLevel             48651    9.17225134118565  0.41373488268088915   \n",
       "redGold                  48651   26203.02859139586   2754.7094253129667   \n",
       "redMinionsKilled         48651  336.69398367967773     33.2789623119406   \n",
       "redJungleMinionsKilled   48651   84.69299706069762   14.902325776460577   \n",
       "redAvgLevel              48651   9.174758997760078   0.4213960073984547   \n",
       "blueChampKills           48651  11.013154919734435     4.53289808776087   \n",
       "blueTowersDestroyed      48651  0.7940843970319212   1.0545563792557995   \n",
       "redChampKills            48651  10.747692750405953    4.453357518351022   \n",
       "redTowersDestroyed       48651  0.8916569032496763   1.1112054095533077   \n",
       "\n",
       "                               3        4  \n",
       "summary                      min      max  \n",
       "blueGold                 15930.0  39769.0  \n",
       "blueMinionsKilled          120.0    455.0  \n",
       "blueJungleMinionsKilled      0.0    164.0  \n",
       "blueAvgLevel                 5.4     10.8  \n",
       "redGold                  11133.0  39999.0  \n",
       "redMinionsKilled            14.0    457.0  \n",
       "redJungleMinionsKilled       1.0    160.0  \n",
       "redAvgLevel                  2.4     10.6  \n",
       "blueChampKills               0.0     50.0  \n",
       "blueTowersDestroyed          0.0     11.0  \n",
       "redChampKills                0.0     43.0  \n",
       "redTowersDestroyed           0.0     10.0  "
      ]
     },
     "execution_count": 9,
     "metadata": {},
     "output_type": "execute_result"
    }
   ],
   "source": [
    "numeric_features = [t[0] for t in df.dtypes if t[1] == 'double']\n",
    "df.select(numeric_features).describe().toPandas().transpose()"
   ]
  },
  {
   "cell_type": "code",
   "execution_count": 10,
   "metadata": {},
   "outputs": [],
   "source": [
    "# numeric_data = df.select(numeric_features).toPandas()\n",
    "# axs = pd.plotting.scatter_matrix(numeric_data, figsize=(8, 8));\n",
    "\n",
    "# # Rotate axis labels and remove axis ticks\n",
    "# n = len(numeric_data.columns)\n",
    "# for i in range(n):\n",
    "#     v = axs[i, 0]\n",
    "#     v.yaxis.label.set_rotation(0)\n",
    "#     v.yaxis.label.set_ha('right')\n",
    "#     v.set_yticks(())\n",
    "#     h = axs[n-1, i]\n",
    "#     h.xaxis.label.set_rotation(90)\n",
    "#     h.set_xticks(())"
   ]
  },
  {
   "cell_type": "code",
   "execution_count": 11,
   "metadata": {},
   "outputs": [],
   "source": [
    "from pyspark.ml.feature import OneHotEncoder, StringIndexer, VectorAssembler\n",
    "label_stringIdx = StringIndexer(inputCol = 'blue_win', outputCol = 'label')\n",
    "stages = [label_stringIdx]\n",
    "\n",
    "assembler = VectorAssembler(inputCols=numeric_features, outputCol=\"features\")\n",
    "stages += [assembler]"
   ]
  },
  {
   "cell_type": "code",
   "execution_count": 12,
   "metadata": {},
   "outputs": [
    {
     "name": "stdout",
     "output_type": "stream",
     "text": [
      "root\n",
      " |-- label: double (nullable = false)\n",
      " |-- features: vector (nullable = true)\n",
      " |-- blue_win: integer (nullable = true)\n",
      " |-- blueGold: double (nullable = true)\n",
      " |-- blueMinionsKilled: double (nullable = true)\n",
      " |-- blueJungleMinionsKilled: double (nullable = true)\n",
      " |-- blueAvgLevel: double (nullable = true)\n",
      " |-- redGold: double (nullable = true)\n",
      " |-- redMinionsKilled: double (nullable = true)\n",
      " |-- redJungleMinionsKilled: double (nullable = true)\n",
      " |-- redAvgLevel: double (nullable = true)\n",
      " |-- blueChampKills: double (nullable = true)\n",
      " |-- blueTowersDestroyed: double (nullable = true)\n",
      " |-- redChampKills: double (nullable = true)\n",
      " |-- redTowersDestroyed: double (nullable = true)\n",
      "\n"
     ]
    }
   ],
   "source": [
    "from pyspark.ml import Pipeline\n",
    "pipeline = Pipeline(stages = stages)\n",
    "pipelineModel = pipeline.fit(df)\n",
    "df = pipelineModel.transform(df)\n",
    "selectedCols = ['label', 'features'] + cols\n",
    "df = df.select(selectedCols)\n",
    "df.printSchema()"
   ]
  },
  {
   "cell_type": "markdown",
   "metadata": {},
   "source": [
    "# Normalization\n",
    "Different attributes of the data may have various scales. The difference in orders of magnitude can lead to unbalanced effect to during the model training, thus we need to normalize the data to resolve this issue. In this case, min-max normalization is applied."
   ]
  },
  {
   "cell_type": "code",
   "execution_count": 13,
   "metadata": {},
   "outputs": [
    {
     "name": "stdout",
     "output_type": "stream",
     "text": [
      "+-----+--------------------+--------+--------+-----------------+-----------------------+------------+-------+----------------+----------------------+-----------+--------------+-------------------+-------------+------------------+--------------------+\n",
      "|label|            features|blue_win|blueGold|blueMinionsKilled|blueJungleMinionsKilled|blueAvgLevel|redGold|redMinionsKilled|redJungleMinionsKilled|redAvgLevel|blueChampKills|blueTowersDestroyed|redChampKills|redTowersDestroyed|        new_features|\n",
      "+-----+--------------------+--------+--------+-----------------+-----------------------+------------+-------+----------------+----------------------+-----------+--------------+-------------------+-------------+------------------+--------------------+\n",
      "|  1.0|[24575.0,349.0,89...|       0| 24575.0|            349.0|                   89.0|         8.6|25856.0|           346.0|                  80.0|        9.2|           6.0|                1.0|         12.0|               1.0|[0.36264105037963...|\n",
      "|  1.0|[27210.0,290.0,36...|       0| 27210.0|            290.0|                   36.0|         9.0|28765.0|           294.0|                  92.0|        9.4|          20.0|                0.0|         19.0|               0.0|[0.47317421032761...|\n",
      "+-----+--------------------+--------+--------+-----------------+-----------------------+------------+-------+----------------+----------------------+-----------+--------------+-------------------+-------------+------------------+--------------------+\n",
      "only showing top 2 rows\n",
      "\n"
     ]
    }
   ],
   "source": [
    "# Standardization\n",
    "from pyspark.ml.feature import MinMaxScaler\n",
    "scale = MinMaxScaler(inputCol='features', outputCol='new_features')\n",
    "scaler = scale.fit(df)\n",
    "scaled = scaler.transform(df)\n",
    "scaled.show(2)"
   ]
  },
  {
   "cell_type": "code",
   "execution_count": 14,
   "metadata": {},
   "outputs": [
    {
     "data": {
      "text/html": [
       "<div>\n",
       "<style scoped>\n",
       "    .dataframe tbody tr th:only-of-type {\n",
       "        vertical-align: middle;\n",
       "    }\n",
       "\n",
       "    .dataframe tbody tr th {\n",
       "        vertical-align: top;\n",
       "    }\n",
       "\n",
       "    .dataframe thead th {\n",
       "        text-align: right;\n",
       "    }\n",
       "</style>\n",
       "<table border=\"1\" class=\"dataframe\">\n",
       "  <thead>\n",
       "    <tr style=\"text-align: right;\">\n",
       "      <th></th>\n",
       "      <th>0</th>\n",
       "      <th>1</th>\n",
       "      <th>2</th>\n",
       "      <th>3</th>\n",
       "      <th>4</th>\n",
       "    </tr>\n",
       "  </thead>\n",
       "  <tbody>\n",
       "    <tr>\n",
       "      <th>label</th>\n",
       "      <td>1</td>\n",
       "      <td>1</td>\n",
       "      <td>0</td>\n",
       "      <td>1</td>\n",
       "      <td>0</td>\n",
       "    </tr>\n",
       "    <tr>\n",
       "      <th>features</th>\n",
       "      <td>[24575.0, 349.0, 89.0, 8.6, 25856.0, 346.0, 80...</td>\n",
       "      <td>[27210.0, 290.0, 36.0, 9.0, 28765.0, 294.0, 92...</td>\n",
       "      <td>[32048.0, 346.0, 92.0, 9.4, 25305.0, 293.0, 84...</td>\n",
       "      <td>[20261.0, 223.0, 60.0, 8.2, 30429.0, 356.0, 10...</td>\n",
       "      <td>[30217.0, 376.0, 110.0, 9.8, 23889.0, 334.0, 6...</td>\n",
       "    </tr>\n",
       "    <tr>\n",
       "      <th>blue_win</th>\n",
       "      <td>0</td>\n",
       "      <td>0</td>\n",
       "      <td>1</td>\n",
       "      <td>0</td>\n",
       "      <td>1</td>\n",
       "    </tr>\n",
       "    <tr>\n",
       "      <th>blueGold</th>\n",
       "      <td>24575</td>\n",
       "      <td>27210</td>\n",
       "      <td>32048</td>\n",
       "      <td>20261</td>\n",
       "      <td>30217</td>\n",
       "    </tr>\n",
       "    <tr>\n",
       "      <th>blueMinionsKilled</th>\n",
       "      <td>349</td>\n",
       "      <td>290</td>\n",
       "      <td>346</td>\n",
       "      <td>223</td>\n",
       "      <td>376</td>\n",
       "    </tr>\n",
       "    <tr>\n",
       "      <th>blueJungleMinionsKilled</th>\n",
       "      <td>89</td>\n",
       "      <td>36</td>\n",
       "      <td>92</td>\n",
       "      <td>60</td>\n",
       "      <td>110</td>\n",
       "    </tr>\n",
       "    <tr>\n",
       "      <th>blueAvgLevel</th>\n",
       "      <td>8.6</td>\n",
       "      <td>9</td>\n",
       "      <td>9.4</td>\n",
       "      <td>8.2</td>\n",
       "      <td>9.8</td>\n",
       "    </tr>\n",
       "    <tr>\n",
       "      <th>redGold</th>\n",
       "      <td>25856</td>\n",
       "      <td>28765</td>\n",
       "      <td>25305</td>\n",
       "      <td>30429</td>\n",
       "      <td>23889</td>\n",
       "    </tr>\n",
       "    <tr>\n",
       "      <th>redMinionsKilled</th>\n",
       "      <td>346</td>\n",
       "      <td>294</td>\n",
       "      <td>293</td>\n",
       "      <td>356</td>\n",
       "      <td>334</td>\n",
       "    </tr>\n",
       "    <tr>\n",
       "      <th>redJungleMinionsKilled</th>\n",
       "      <td>80</td>\n",
       "      <td>92</td>\n",
       "      <td>84</td>\n",
       "      <td>107</td>\n",
       "      <td>60</td>\n",
       "    </tr>\n",
       "    <tr>\n",
       "      <th>redAvgLevel</th>\n",
       "      <td>9.2</td>\n",
       "      <td>9.4</td>\n",
       "      <td>9.4</td>\n",
       "      <td>9.4</td>\n",
       "      <td>8.8</td>\n",
       "    </tr>\n",
       "    <tr>\n",
       "      <th>blueChampKills</th>\n",
       "      <td>6</td>\n",
       "      <td>20</td>\n",
       "      <td>17</td>\n",
       "      <td>7</td>\n",
       "      <td>16</td>\n",
       "    </tr>\n",
       "    <tr>\n",
       "      <th>blueTowersDestroyed</th>\n",
       "      <td>1</td>\n",
       "      <td>0</td>\n",
       "      <td>0</td>\n",
       "      <td>3</td>\n",
       "      <td>0</td>\n",
       "    </tr>\n",
       "    <tr>\n",
       "      <th>redChampKills</th>\n",
       "      <td>12</td>\n",
       "      <td>19</td>\n",
       "      <td>11</td>\n",
       "      <td>16</td>\n",
       "      <td>8</td>\n",
       "    </tr>\n",
       "    <tr>\n",
       "      <th>redTowersDestroyed</th>\n",
       "      <td>1</td>\n",
       "      <td>0</td>\n",
       "      <td>4</td>\n",
       "      <td>0</td>\n",
       "      <td>2</td>\n",
       "    </tr>\n",
       "    <tr>\n",
       "      <th>new_features</th>\n",
       "      <td>[0.36264105037963, 0.6835820895522388, 0.54268...</td>\n",
       "      <td>[0.4731742103276144, 0.5074626865671642, 0.219...</td>\n",
       "      <td>[0.6761189647216745, 0.6746268656716418, 0.560...</td>\n",
       "      <td>[0.18167708377029237, 0.3074626865671642, 0.36...</td>\n",
       "      <td>[0.5993120516800201, 0.764179104477612, 0.6707...</td>\n",
       "    </tr>\n",
       "  </tbody>\n",
       "</table>\n",
       "</div>"
      ],
      "text/plain": [
       "                                                                         0  \\\n",
       "label                                                                    1   \n",
       "features                 [24575.0, 349.0, 89.0, 8.6, 25856.0, 346.0, 80...   \n",
       "blue_win                                                                 0   \n",
       "blueGold                                                             24575   \n",
       "blueMinionsKilled                                                      349   \n",
       "blueJungleMinionsKilled                                                 89   \n",
       "blueAvgLevel                                                           8.6   \n",
       "redGold                                                              25856   \n",
       "redMinionsKilled                                                       346   \n",
       "redJungleMinionsKilled                                                  80   \n",
       "redAvgLevel                                                            9.2   \n",
       "blueChampKills                                                           6   \n",
       "blueTowersDestroyed                                                      1   \n",
       "redChampKills                                                           12   \n",
       "redTowersDestroyed                                                       1   \n",
       "new_features             [0.36264105037963, 0.6835820895522388, 0.54268...   \n",
       "\n",
       "                                                                         1  \\\n",
       "label                                                                    1   \n",
       "features                 [27210.0, 290.0, 36.0, 9.0, 28765.0, 294.0, 92...   \n",
       "blue_win                                                                 0   \n",
       "blueGold                                                             27210   \n",
       "blueMinionsKilled                                                      290   \n",
       "blueJungleMinionsKilled                                                 36   \n",
       "blueAvgLevel                                                             9   \n",
       "redGold                                                              28765   \n",
       "redMinionsKilled                                                       294   \n",
       "redJungleMinionsKilled                                                  92   \n",
       "redAvgLevel                                                            9.4   \n",
       "blueChampKills                                                          20   \n",
       "blueTowersDestroyed                                                      0   \n",
       "redChampKills                                                           19   \n",
       "redTowersDestroyed                                                       0   \n",
       "new_features             [0.4731742103276144, 0.5074626865671642, 0.219...   \n",
       "\n",
       "                                                                         2  \\\n",
       "label                                                                    0   \n",
       "features                 [32048.0, 346.0, 92.0, 9.4, 25305.0, 293.0, 84...   \n",
       "blue_win                                                                 1   \n",
       "blueGold                                                             32048   \n",
       "blueMinionsKilled                                                      346   \n",
       "blueJungleMinionsKilled                                                 92   \n",
       "blueAvgLevel                                                           9.4   \n",
       "redGold                                                              25305   \n",
       "redMinionsKilled                                                       293   \n",
       "redJungleMinionsKilled                                                  84   \n",
       "redAvgLevel                                                            9.4   \n",
       "blueChampKills                                                          17   \n",
       "blueTowersDestroyed                                                      0   \n",
       "redChampKills                                                           11   \n",
       "redTowersDestroyed                                                       4   \n",
       "new_features             [0.6761189647216745, 0.6746268656716418, 0.560...   \n",
       "\n",
       "                                                                         3  \\\n",
       "label                                                                    1   \n",
       "features                 [20261.0, 223.0, 60.0, 8.2, 30429.0, 356.0, 10...   \n",
       "blue_win                                                                 0   \n",
       "blueGold                                                             20261   \n",
       "blueMinionsKilled                                                      223   \n",
       "blueJungleMinionsKilled                                                 60   \n",
       "blueAvgLevel                                                           8.2   \n",
       "redGold                                                              30429   \n",
       "redMinionsKilled                                                       356   \n",
       "redJungleMinionsKilled                                                 107   \n",
       "redAvgLevel                                                            9.4   \n",
       "blueChampKills                                                           7   \n",
       "blueTowersDestroyed                                                      3   \n",
       "redChampKills                                                           16   \n",
       "redTowersDestroyed                                                       0   \n",
       "new_features             [0.18167708377029237, 0.3074626865671642, 0.36...   \n",
       "\n",
       "                                                                         4  \n",
       "label                                                                    0  \n",
       "features                 [30217.0, 376.0, 110.0, 9.8, 23889.0, 334.0, 6...  \n",
       "blue_win                                                                 1  \n",
       "blueGold                                                             30217  \n",
       "blueMinionsKilled                                                      376  \n",
       "blueJungleMinionsKilled                                                110  \n",
       "blueAvgLevel                                                           9.8  \n",
       "redGold                                                              23889  \n",
       "redMinionsKilled                                                       334  \n",
       "redJungleMinionsKilled                                                  60  \n",
       "redAvgLevel                                                            8.8  \n",
       "blueChampKills                                                          16  \n",
       "blueTowersDestroyed                                                      0  \n",
       "redChampKills                                                            8  \n",
       "redTowersDestroyed                                                       2  \n",
       "new_features             [0.5993120516800201, 0.764179104477612, 0.6707...  "
      ]
     },
     "execution_count": 14,
     "metadata": {},
     "output_type": "execute_result"
    }
   ],
   "source": [
    "pd.DataFrame(scaled.take(5), columns=scaled.columns).transpose()"
   ]
  },
  {
   "cell_type": "code",
   "execution_count": 15,
   "metadata": {},
   "outputs": [
    {
     "name": "stdout",
     "output_type": "stream",
     "text": [
      "Training Dataset Count: 39001\n",
      "Test Dataset Count: 9650\n"
     ]
    }
   ],
   "source": [
    "train, test = scaled.randomSplit([0.8, 0.2], seed = 2018)\n",
    "print(\"Training Dataset Count: \" + str(train.count()))\n",
    "print(\"Test Dataset Count: \" + str(test.count()))"
   ]
  },
  {
   "cell_type": "markdown",
   "metadata": {},
   "source": [
    "# Logistic regression (classification)\n",
    "After the model is fully trained, the winning rate of both teams can be predicted according to the relevant data in the game."
   ]
  },
  {
   "cell_type": "code",
   "execution_count": 16,
   "metadata": {},
   "outputs": [],
   "source": [
    "from pyspark.ml.classification import LogisticRegression\n",
    "\n",
    "lr = LogisticRegression(featuresCol = 'new_features', labelCol = 'label', maxIter=10)\n",
    "lrModel = lr.fit(train)"
   ]
  },
  {
   "cell_type": "code",
   "execution_count": 17,
   "metadata": {},
   "outputs": [
    {
     "data": {
      "image/png": "[encoded data removed]",
      "text/plain": [
       "<Figure size 432x288 with 1 Axes>"
      ]
     },
     "metadata": {
      "needs_background": "light"
     },
     "output_type": "display_data"
    }
   ],
   "source": [
    "import matplotlib.pyplot as plt\n",
    "import numpy as np\n",
    "\n",
    "beta = np.sort(lrModel.coefficients)\n",
    "\n",
    "plt.plot(beta)\n",
    "plt.ylabel('Beta Coefficients')\n",
    "plt.show()"
   ]
  },
  {
   "cell_type": "code",
   "execution_count": 18,
   "metadata": {},
   "outputs": [
    {
     "name": "stdout",
     "output_type": "stream",
     "text": [
      "+-----+--------------------+----------+--------------------+\n",
      "|label|       rawPrediction|prediction|         probability|\n",
      "+-----+--------------------+----------+--------------------+\n",
      "|  0.0|[-3.5976123333310...|       1.0|[0.02665887921806...|\n",
      "|  0.0|[-2.1257044963154...|       1.0|[0.10662346861653...|\n",
      "|  0.0|[-2.7489146190933...|       1.0|[0.06014797768786...|\n",
      "|  0.0|[-3.3238525674751...|       1.0|[0.03476190938653...|\n",
      "|  0.0|[-1.4534302103108...|       1.0|[0.18947421459938...|\n",
      "|  0.0|[-3.4027773514694...|       1.0|[0.03220877827112...|\n",
      "|  0.0|[-1.4034772972306...|       1.0|[0.19726489664946...|\n",
      "|  0.0|[-2.1633516229625...|       1.0|[0.10309013929531...|\n",
      "|  0.0|[-3.7499579010359...|       1.0|[0.02297831502592...|\n",
      "|  0.0|[-1.6654381151386...|       1.0|[0.15903334467999...|\n",
      "+-----+--------------------+----------+--------------------+\n",
      "only showing top 10 rows\n",
      "\n"
     ]
    }
   ],
   "source": [
    "predictions = lrModel.transform(test)\n",
    "predictions.select('label', 'rawPrediction', 'prediction', 'probability').show(10)"
   ]
  },
  {
   "cell_type": "markdown",
   "metadata": {},
   "source": [
    "One thing to mention is that the label and the blue_win attribute is present in a opposite way...But it does not matter and have no negative effect for the training and prediction process."
   ]
  },
  {
   "cell_type": "code",
   "execution_count": 19,
   "metadata": {},
   "outputs": [
    {
     "data": {
      "image/png": "[encoded data removed]",
      "text/plain": [
       "<Figure size 432x288 with 1 Axes>"
      ]
     },
     "metadata": {
      "needs_background": "light"
     },
     "output_type": "display_data"
    },
    {
     "name": "stdout",
     "output_type": "stream",
     "text": [
      "Training set areaUnderROC: 0.8677051580958487\n"
     ]
    }
   ],
   "source": [
    "trainingSummary = lrModel.summary\n",
    "\n",
    "roc = trainingSummary.roc.toPandas()\n",
    "plt.plot(roc['FPR'],roc['TPR'])\n",
    "plt.ylabel('False Positive Rate')\n",
    "plt.xlabel('True Positive Rate')\n",
    "plt.title('ROC Curve')\n",
    "plt.show()\n",
    "\n",
    "print('Training set areaUnderROC: ' + str(trainingSummary.areaUnderROC))"
   ]
  },
  {
   "cell_type": "code",
   "execution_count": 20,
   "metadata": {},
   "outputs": [
    {
     "name": "stdout",
     "output_type": "stream",
     "text": [
      "Test Area Under ROC 0.8726256217582918\n"
     ]
    }
   ],
   "source": [
    "from pyspark.ml.evaluation import BinaryClassificationEvaluator\n",
    "\n",
    "evaluator = BinaryClassificationEvaluator()\n",
    "print('Test Area Under ROC', evaluator.evaluate(predictions))"
   ]
  },
  {
   "cell_type": "markdown",
   "metadata": {},
   "source": [
    "The classification performance is good."
   ]
  },
  {
   "cell_type": "markdown",
   "metadata": {},
   "source": [
    "# Decision tree"
   ]
  },
  {
   "cell_type": "code",
   "execution_count": 21,
   "metadata": {},
   "outputs": [
    {
     "name": "stdout",
     "output_type": "stream",
     "text": [
      "+-----+----------------+----------+--------------------+\n",
      "|label|   rawPrediction|prediction|         probability|\n",
      "+-----+----------------+----------+--------------------+\n",
      "|  0.0|[2371.0,11425.0]|       1.0|[0.17186140910408...|\n",
      "|  0.0| [1137.0,1825.0]|       1.0|[0.38386225523295...|\n",
      "|  0.0|[2371.0,11425.0]|       1.0|[0.17186140910408...|\n",
      "|  0.0|[2371.0,11425.0]|       1.0|[0.17186140910408...|\n",
      "|  0.0| [1137.0,1825.0]|       1.0|[0.38386225523295...|\n",
      "|  0.0|[2371.0,11425.0]|       1.0|[0.17186140910408...|\n",
      "|  0.0| [1137.0,1825.0]|       1.0|[0.38386225523295...|\n",
      "|  0.0| [1137.0,1825.0]|       1.0|[0.38386225523295...|\n",
      "|  0.0|[2371.0,11425.0]|       1.0|[0.17186140910408...|\n",
      "|  0.0| [1137.0,1825.0]|       1.0|[0.38386225523295...|\n",
      "+-----+----------------+----------+--------------------+\n",
      "only showing top 10 rows\n",
      "\n"
     ]
    }
   ],
   "source": [
    "from pyspark.ml.classification import DecisionTreeClassifier\n",
    "\n",
    "dt = DecisionTreeClassifier(featuresCol = 'features', labelCol = 'label', maxDepth = 3)\n",
    "dtModel = dt.fit(train)\n",
    "predictions = dtModel.transform(test)\n",
    "predictions.select('label', 'rawPrediction', 'prediction', 'probability').show(10)"
   ]
  },
  {
   "cell_type": "code",
   "execution_count": 22,
   "metadata": {},
   "outputs": [
    {
     "name": "stdout",
     "output_type": "stream",
     "text": [
      "Test Area Under ROC: 0.7764492620530618\n"
     ]
    }
   ],
   "source": [
    "evaluator = BinaryClassificationEvaluator()\n",
    "print(\"Test Area Under ROC: \" + str(evaluator.evaluate(predictions, {evaluator.metricName: \"areaUnderROC\"})))"
   ]
  },
  {
   "cell_type": "markdown",
   "metadata": {},
   "source": [
    "# Linear regression\n",
    "In this part, linear regression model will be trained and applied on the data of blue team to predict the estimated number of killed enemy champions. Comparing the predicted and the fact number, the coaches can judge the team's style: conservative or aggressive, which can help tactical adjustments."
   ]
  },
  {
   "cell_type": "code",
   "execution_count": 23,
   "metadata": {},
   "outputs": [
    {
     "name": "stdout",
     "output_type": "stream",
     "text": [
      "['blueGold', 'blueMinionsKilled', 'blueJungleMinionsKilled', 'blueAvgLevel', 'redGold', 'redMinionsKilled', 'redJungleMinionsKilled', 'redAvgLevel', 'blueChampKills', 'blueTowersDestroyed', 'redChampKills', 'redTowersDestroyed']\n"
     ]
    }
   ],
   "source": [
    "print(numeric_features)"
   ]
  },
  {
   "cell_type": "code",
   "execution_count": 24,
   "metadata": {},
   "outputs": [
    {
     "name": "stdout",
     "output_type": "stream",
     "text": [
      "root\n",
      " |-- blueGold: double (nullable = true)\n",
      " |-- blueMinionsKilled: double (nullable = true)\n",
      " |-- blueJungleMinionsKilled: double (nullable = true)\n",
      " |-- blueAvgLevel: double (nullable = true)\n",
      " |-- blueChampKills: double (nullable = true)\n",
      " |-- blueTowersDestroyed: double (nullable = true)\n",
      "\n"
     ]
    }
   ],
   "source": [
    "blue = scaled.select('blueGold', 'blueMinionsKilled', 'blueJungleMinionsKilled', 'blueAvgLevel', 'blueChampKills', 'blueTowersDestroyed')\n",
    "cols = blue.columns\n",
    "blue.printSchema()"
   ]
  },
  {
   "cell_type": "code",
   "execution_count": 25,
   "metadata": {},
   "outputs": [],
   "source": [
    "from pyspark.ml.regression import LinearRegression\n",
    "feature2 = ['blueGold', 'blueMinionsKilled', 'blueJungleMinionsKilled', 'blueAvgLevel', 'blueTowersDestroyed']\n",
    "\n",
    "assembler1 = VectorAssembler(inputCols=feature2, outputCol=\"features2\")\n",
    "stages1 = [assembler1]"
   ]
  },
  {
   "cell_type": "code",
   "execution_count": 26,
   "metadata": {},
   "outputs": [
    {
     "name": "stdout",
     "output_type": "stream",
     "text": [
      "root\n",
      " |-- features2: vector (nullable = true)\n",
      " |-- blueGold: double (nullable = true)\n",
      " |-- blueMinionsKilled: double (nullable = true)\n",
      " |-- blueJungleMinionsKilled: double (nullable = true)\n",
      " |-- blueAvgLevel: double (nullable = true)\n",
      " |-- blueChampKills: double (nullable = true)\n",
      " |-- blueTowersDestroyed: double (nullable = true)\n",
      "\n"
     ]
    }
   ],
   "source": [
    "pipeline1 = Pipeline(stages = stages1)\n",
    "pipelineModel1 = pipeline1.fit(blue)\n",
    "blue = pipelineModel1.transform(blue)\n",
    "selectedCols = ['features2'] + cols\n",
    "blue = blue.select(selectedCols)\n",
    "blue.printSchema()"
   ]
  },
  {
   "cell_type": "code",
   "execution_count": 27,
   "metadata": {},
   "outputs": [
    {
     "name": "stdout",
     "output_type": "stream",
     "text": [
      "+--------------------+--------+-----------------+-----------------------+------------+--------------+-------------------+--------------------+\n",
      "|           features2|blueGold|blueMinionsKilled|blueJungleMinionsKilled|blueAvgLevel|blueChampKills|blueTowersDestroyed|        new_features|\n",
      "+--------------------+--------+-----------------+-----------------------+------------+--------------+-------------------+--------------------+\n",
      "|[24575.0,349.0,89...| 24575.0|            349.0|                   89.0|         8.6|           6.0|                1.0|[0.36264105037963...|\n",
      "|[27210.0,290.0,36...| 27210.0|            290.0|                   36.0|         9.0|          20.0|                0.0|[0.47317421032761...|\n",
      "+--------------------+--------+-----------------+-----------------------+------------+--------------+-------------------+--------------------+\n",
      "only showing top 2 rows\n",
      "\n"
     ]
    }
   ],
   "source": [
    "blue_scale = MinMaxScaler(inputCol='features2', outputCol='new_features')\n",
    "blue_scaler = blue_scale.fit(blue)\n",
    "blue_scaled = blue_scaler.transform(blue)\n",
    "blue_scaled.show(2)"
   ]
  },
  {
   "cell_type": "code",
   "execution_count": 28,
   "metadata": {},
   "outputs": [
    {
     "data": {
      "text/html": [
       "<div>\n",
       "<style scoped>\n",
       "    .dataframe tbody tr th:only-of-type {\n",
       "        vertical-align: middle;\n",
       "    }\n",
       "\n",
       "    .dataframe tbody tr th {\n",
       "        vertical-align: top;\n",
       "    }\n",
       "\n",
       "    .dataframe thead th {\n",
       "        text-align: right;\n",
       "    }\n",
       "</style>\n",
       "<table border=\"1\" class=\"dataframe\">\n",
       "  <thead>\n",
       "    <tr style=\"text-align: right;\">\n",
       "      <th></th>\n",
       "      <th>0</th>\n",
       "      <th>1</th>\n",
       "      <th>2</th>\n",
       "      <th>3</th>\n",
       "      <th>4</th>\n",
       "    </tr>\n",
       "  </thead>\n",
       "  <tbody>\n",
       "    <tr>\n",
       "      <th>features2</th>\n",
       "      <td>[24575.0, 349.0, 89.0, 8.6, 1.0]</td>\n",
       "      <td>[27210.0, 290.0, 36.0, 9.0, 0.0]</td>\n",
       "      <td>[32048.0, 346.0, 92.0, 9.4, 0.0]</td>\n",
       "      <td>[20261.0, 223.0, 60.0, 8.2, 3.0]</td>\n",
       "      <td>[30217.0, 376.0, 110.0, 9.8, 0.0]</td>\n",
       "    </tr>\n",
       "    <tr>\n",
       "      <th>blueGold</th>\n",
       "      <td>24575</td>\n",
       "      <td>27210</td>\n",
       "      <td>32048</td>\n",
       "      <td>20261</td>\n",
       "      <td>30217</td>\n",
       "    </tr>\n",
       "    <tr>\n",
       "      <th>blueMinionsKilled</th>\n",
       "      <td>349</td>\n",
       "      <td>290</td>\n",
       "      <td>346</td>\n",
       "      <td>223</td>\n",
       "      <td>376</td>\n",
       "    </tr>\n",
       "    <tr>\n",
       "      <th>blueJungleMinionsKilled</th>\n",
       "      <td>89</td>\n",
       "      <td>36</td>\n",
       "      <td>92</td>\n",
       "      <td>60</td>\n",
       "      <td>110</td>\n",
       "    </tr>\n",
       "    <tr>\n",
       "      <th>blueAvgLevel</th>\n",
       "      <td>8.6</td>\n",
       "      <td>9</td>\n",
       "      <td>9.4</td>\n",
       "      <td>8.2</td>\n",
       "      <td>9.8</td>\n",
       "    </tr>\n",
       "    <tr>\n",
       "      <th>blueChampKills</th>\n",
       "      <td>6</td>\n",
       "      <td>20</td>\n",
       "      <td>17</td>\n",
       "      <td>7</td>\n",
       "      <td>16</td>\n",
       "    </tr>\n",
       "    <tr>\n",
       "      <th>blueTowersDestroyed</th>\n",
       "      <td>1</td>\n",
       "      <td>0</td>\n",
       "      <td>0</td>\n",
       "      <td>3</td>\n",
       "      <td>0</td>\n",
       "    </tr>\n",
       "    <tr>\n",
       "      <th>new_features</th>\n",
       "      <td>[0.36264105037963, 0.6835820895522388, 0.54268...</td>\n",
       "      <td>[0.4731742103276144, 0.5074626865671642, 0.219...</td>\n",
       "      <td>[0.6761189647216745, 0.6746268656716418, 0.560...</td>\n",
       "      <td>[0.18167708377029237, 0.3074626865671642, 0.36...</td>\n",
       "      <td>[0.5993120516800201, 0.764179104477612, 0.6707...</td>\n",
       "    </tr>\n",
       "  </tbody>\n",
       "</table>\n",
       "</div>"
      ],
      "text/plain": [
       "                                                                         0  \\\n",
       "features2                                 [24575.0, 349.0, 89.0, 8.6, 1.0]   \n",
       "blueGold                                                             24575   \n",
       "blueMinionsKilled                                                      349   \n",
       "blueJungleMinionsKilled                                                 89   \n",
       "blueAvgLevel                                                           8.6   \n",
       "blueChampKills                                                           6   \n",
       "blueTowersDestroyed                                                      1   \n",
       "new_features             [0.36264105037963, 0.6835820895522388, 0.54268...   \n",
       "\n",
       "                                                                         1  \\\n",
       "features2                                 [27210.0, 290.0, 36.0, 9.0, 0.0]   \n",
       "blueGold                                                             27210   \n",
       "blueMinionsKilled                                                      290   \n",
       "blueJungleMinionsKilled                                                 36   \n",
       "blueAvgLevel                                                             9   \n",
       "blueChampKills                                                          20   \n",
       "blueTowersDestroyed                                                      0   \n",
       "new_features             [0.4731742103276144, 0.5074626865671642, 0.219...   \n",
       "\n",
       "                                                                         2  \\\n",
       "features2                                 [32048.0, 346.0, 92.0, 9.4, 0.0]   \n",
       "blueGold                                                             32048   \n",
       "blueMinionsKilled                                                      346   \n",
       "blueJungleMinionsKilled                                                 92   \n",
       "blueAvgLevel                                                           9.4   \n",
       "blueChampKills                                                          17   \n",
       "blueTowersDestroyed                                                      0   \n",
       "new_features             [0.6761189647216745, 0.6746268656716418, 0.560...   \n",
       "\n",
       "                                                                         3  \\\n",
       "features2                                 [20261.0, 223.0, 60.0, 8.2, 3.0]   \n",
       "blueGold                                                             20261   \n",
       "blueMinionsKilled                                                      223   \n",
       "blueJungleMinionsKilled                                                 60   \n",
       "blueAvgLevel                                                           8.2   \n",
       "blueChampKills                                                           7   \n",
       "blueTowersDestroyed                                                      3   \n",
       "new_features             [0.18167708377029237, 0.3074626865671642, 0.36...   \n",
       "\n",
       "                                                                         4  \n",
       "features2                                [30217.0, 376.0, 110.0, 9.8, 0.0]  \n",
       "blueGold                                                             30217  \n",
       "blueMinionsKilled                                                      376  \n",
       "blueJungleMinionsKilled                                                110  \n",
       "blueAvgLevel                                                           9.8  \n",
       "blueChampKills                                                          16  \n",
       "blueTowersDestroyed                                                      0  \n",
       "new_features             [0.5993120516800201, 0.764179104477612, 0.6707...  "
      ]
     },
     "execution_count": 28,
     "metadata": {},
     "output_type": "execute_result"
    }
   ],
   "source": [
    "pd.DataFrame(blue_scaled.take(5), columns=blue_scaled.columns).transpose()"
   ]
  },
  {
   "cell_type": "code",
   "execution_count": 29,
   "metadata": {},
   "outputs": [
    {
     "name": "stdout",
     "output_type": "stream",
     "text": [
      "Training Dataset Count: 39001\n",
      "Test Dataset Count: 9650\n"
     ]
    }
   ],
   "source": [
    "blue_train, blue_test = blue_scaled.randomSplit([0.8, 0.2], seed = 2018)\n",
    "print(\"Training Dataset Count: \" + str(blue_train.count()))\n",
    "print(\"Test Dataset Count: \" + str(blue_test.count()))"
   ]
  },
  {
   "cell_type": "code",
   "execution_count": 30,
   "metadata": {},
   "outputs": [
    {
     "name": "stdout",
     "output_type": "stream",
     "text": [
      "MSE of training set: 2.6699958490133953\n",
      "MSE of test set: 2.5258230869046208\n"
     ]
    }
   ],
   "source": [
    "linear = LinearRegression(featuresCol = 'new_features', labelCol = 'blueChampKills')\n",
    "linear_model = linear.fit(blue_train)\n",
    "training_predictions = linear_model.evaluate(blue_train)\n",
    "test_predictions = linear_model.evaluate(blue_test)\n",
    "print(f'MSE of training set: {training_predictions.meanSquaredError}')\n",
    "print(f'MSE of test set: {test_predictions.meanSquaredError}')"
   ]
  },
  {
   "cell_type": "code",
   "execution_count": 31,
   "metadata": {},
   "outputs": [
    {
     "name": "stdout",
     "output_type": "stream",
     "text": [
      "Coefficient of determination of training set: 0.8708810368800202\n",
      "Coefficient of determination of test set: 0.8737660249789073\n"
     ]
    }
   ],
   "source": [
    "# The coefficient of determination (R²) measures how well a statistical model predicts an outcome. \n",
    "# The outcome is represented by the model's dependent variable. \n",
    "# The lowest possible value of R² is 0 and the highest possible value is 1.\n",
    "print(f'Coefficient of determination of training set: {training_predictions.r2}')\n",
    "print(f'Coefficient of determination of test set: {test_predictions.r2}')"
   ]
  }
 ],
 "metadata": {
  "kernelspec": {
   "display_name": "Python 3",
   "language": "python",
   "name": "python3"
  },
  "language_info": {
   "codemirror_mode": {
    "name": "ipython",
    "version": 3
   },
   "file_extension": ".py",
   "mimetype": "text/x-python",
   "name": "python",
   "nbconvert_exporter": "python",
   "pygments_lexer": "ipython3",
   "version": "3.8.6"
  }
 },
 "nbformat": 4,
 "nbformat_minor": 4
}
